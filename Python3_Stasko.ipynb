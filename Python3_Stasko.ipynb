{
  "nbformat": 4,
  "nbformat_minor": 0,
  "metadata": {
    "colab": {
      "provenance": [],
      "authorship_tag": "ABX9TyNdugnbZOSihZs1P34ERbWk",
      "include_colab_link": true
    },
    "kernelspec": {
      "name": "python3",
      "display_name": "Python 3"
    },
    "language_info": {
      "name": "python"
    }
  },
  "cells": [
    {
      "cell_type": "markdown",
      "metadata": {
        "id": "view-in-github",
        "colab_type": "text"
      },
      "source": [
        "<a href=\"https://colab.research.google.com/github/TarasStasko/Python_3/blob/main/Python3_Stasko.ipynb\" target=\"_parent\"><img src=\"https://colab.research.google.com/assets/colab-badge.svg\" alt=\"Open In Colab\"/></a>"
      ]
    },
    {
      "cell_type": "code",
      "execution_count": 5,
      "metadata": {
        "colab": {
          "base_uri": "https://localhost:8080/"
        },
        "id": "FRtqvBxd7bOf",
        "outputId": "5234a360-5b46-44f6-e031-10ca27ec4276"
      },
      "outputs": [
        {
          "output_type": "stream",
          "name": "stdout",
          "text": [
            "32\n"
          ]
        }
      ],
      "source": [
        "# 1.\n",
        "a = 17\n",
        "if a % 2 == 0:\n",
        "   print(a*2)\n",
        "else:\n",
        "   print((a*3)+1)"
      ]
    },
    {
      "cell_type": "code",
      "source": [
        "# 2.\n",
        "list = [10]\n",
        "if len(list) == 0:\n",
        "  list.append(10)\n",
        "  print(list)\n",
        "else:\n",
        "    print(list)"
      ],
      "metadata": {
        "colab": {
          "base_uri": "https://localhost:8080/"
        },
        "id": "ZTDD5bHv8SFl",
        "outputId": "9868ccc2-5132-4aee-fa73-315bc0da8fb7"
      },
      "execution_count": 12,
      "outputs": [
        {
          "output_type": "stream",
          "name": "stdout",
          "text": [
            "[10]\n"
          ]
        }
      ]
    },
    {
      "cell_type": "code",
      "source": [
        "# 3.\n",
        "str = \"Taras\"\n",
        "if 'a' in str or 'i' in str:\n",
        "  print(\"A or I is in the name\")\n",
        "if 'o' in str and 'n' in str:\n",
        "  print(\"O and N is in the name\")\n",
        "if not 'n' in str:\n",
        "  print(\"There is no N in the name, but there might be O\")\n",
        "if not 'o' in str and 'n' in str:\n",
        "  print(\"Only N is in the name\")\n"
      ],
      "metadata": {
        "colab": {
          "base_uri": "https://localhost:8080/"
        },
        "id": "ytvt9zb09SAK",
        "outputId": "ecfc3ad3-98ae-4b08-a20b-148b0ea41824"
      },
      "execution_count": 37,
      "outputs": [
        {
          "output_type": "stream",
          "name": "stdout",
          "text": [
            "A or I is in the name\n",
            "There is no N in the name, but there might be O\n"
          ]
        }
      ]
    },
    {
      "cell_type": "code",
      "source": [
        "# 4.\n",
        "list = [i for i in range(1, 20) if i%2 == 0]\n",
        "print(list)"
      ],
      "metadata": {
        "colab": {
          "base_uri": "https://localhost:8080/"
        },
        "id": "HrWkRuuDBE_Y",
        "outputId": "8ab4a781-d19d-4d25-930e-f0803b442192"
      },
      "execution_count": 47,
      "outputs": [
        {
          "output_type": "stream",
          "name": "stdout",
          "text": [
            "[2, 4, 6, 8, 10, 12, 14, 16, 18]\n"
          ]
        }
      ]
    },
    {
      "cell_type": "code",
      "source": [
        "# 5.\n",
        "# comprehensions слід уникати, коли це призводить до втрати читабельності\n",
        "dict = {x: x*x if x%2 == 0 else  x*3 for x in range(1, 10) }\n",
        "print(dict)"
      ],
      "metadata": {
        "colab": {
          "base_uri": "https://localhost:8080/"
        },
        "id": "j8M0pPI-CjHB",
        "outputId": "1758f465-625a-46bb-afa9-3723747a7cb3"
      },
      "execution_count": 60,
      "outputs": [
        {
          "output_type": "stream",
          "name": "stdout",
          "text": [
            "{1: 3, 2: 4, 3: 9, 4: 16, 5: 15, 6: 36, 7: 21, 8: 64, 9: 27}\n"
          ]
        }
      ]
    },
    {
      "cell_type": "code",
      "source": [
        "# 6.\n",
        "mylist = ['hello', 'i', 'dont', 'care']\n",
        "newlist = [x[:3].upper() for x in mylist]\n",
        "print(newlist)"
      ],
      "metadata": {
        "colab": {
          "base_uri": "https://localhost:8080/"
        },
        "id": "rXKauCYeF14v",
        "outputId": "fee9c94e-c1b5-414d-9a7e-8433df44e06f"
      },
      "execution_count": 71,
      "outputs": [
        {
          "output_type": "stream",
          "name": "stdout",
          "text": [
            "['HEL', 'I', 'DON', 'CAR']\n"
          ]
        }
      ]
    },
    {
      "cell_type": "code",
      "source": [
        "# 7.\n",
        "x = 0\n",
        "while x < 10:\n",
        "  x += 1\n",
        "  print(x)"
      ],
      "metadata": {
        "colab": {
          "base_uri": "https://localhost:8080/"
        },
        "id": "-nJX0ldvHygA",
        "outputId": "d13c87a1-bc16-4e9d-ca95-3b9b5936f1f3"
      },
      "execution_count": 79,
      "outputs": [
        {
          "output_type": "stream",
          "name": "stdout",
          "text": [
            "1\n",
            "2\n",
            "3\n",
            "4\n",
            "5\n",
            "6\n",
            "7\n",
            "8\n",
            "9\n",
            "10\n"
          ]
        }
      ]
    },
    {
      "cell_type": "code",
      "source": [
        "# 8.\n",
        "x = 0\n",
        "while x < 20:\n",
        "  x += 1\n",
        "  if x%2 == 1:\n",
        "    print(x)"
      ],
      "metadata": {
        "colab": {
          "base_uri": "https://localhost:8080/"
        },
        "id": "p9eEzn2aIZu6",
        "outputId": "9964ec9e-cebc-4de1-a65b-b1d3bdeab812"
      },
      "execution_count": 84,
      "outputs": [
        {
          "output_type": "stream",
          "name": "stdout",
          "text": [
            "1\n",
            "3\n",
            "5\n",
            "7\n",
            "9\n",
            "11\n",
            "13\n",
            "15\n",
            "17\n",
            "19\n"
          ]
        }
      ]
    },
    {
      "cell_type": "code",
      "source": [
        "# 9.\n",
        "mylist = [True, True, None, False]\n",
        "newlist = []\n",
        "for i in range(len(mylist)):\n",
        "  newlist.append((i, mylist[i]))\n",
        "print(newlist)"
      ],
      "metadata": {
        "colab": {
          "base_uri": "https://localhost:8080/"
        },
        "id": "TgS9KyHGI-yf",
        "outputId": "cda7033a-2c05-4d76-b4b2-5434cc584edd"
      },
      "execution_count": 102,
      "outputs": [
        {
          "output_type": "stream",
          "name": "stdout",
          "text": [
            "[(0, True), (1, True), (2, None), (3, False)]\n"
          ]
        }
      ]
    },
    {
      "cell_type": "code",
      "source": [
        "# 10.\n",
        "dict = {'It': 3, 'Fault stars': 10, 'Bible': 17, 'Psychological romance': 4, 'Harry Potter': 13}\n",
        "for x in dict:\n",
        "  dict[x] += 5\n",
        "print(dict)"
      ],
      "metadata": {
        "colab": {
          "base_uri": "https://localhost:8080/"
        },
        "id": "cHz7j1CTR4Q1",
        "outputId": "a7da936e-6136-42ce-a804-9071b12888b0"
      },
      "execution_count": 107,
      "outputs": [
        {
          "output_type": "stream",
          "name": "stdout",
          "text": [
            "{'It': 8, 'Fault stars': 15, 'Bible': 22, 'Psychological romance': 9, 'Harry Potter': 18}\n"
          ]
        }
      ]
    },
    {
      "cell_type": "code",
      "source": [
        "# 11.\n",
        "n = 10\n",
        "for x in range(n):\n",
        "  x+=1\n",
        "  print('#'*x)"
      ],
      "metadata": {
        "colab": {
          "base_uri": "https://localhost:8080/"
        },
        "id": "jrN7B-VTTWuP",
        "outputId": "f1faa3cb-f18e-4350-d5d0-bbaab35858ea"
      },
      "execution_count": 116,
      "outputs": [
        {
          "output_type": "stream",
          "name": "stdout",
          "text": [
            "#\n",
            "##\n",
            "###\n",
            "####\n",
            "#####\n",
            "######\n",
            "#######\n",
            "########\n",
            "#########\n",
            "##########\n"
          ]
        }
      ]
    },
    {
      "cell_type": "code",
      "source": [
        "# 12.\n",
        "import random\n",
        "a = random.randint(1, 100)\n",
        "print(\"Спробуйте вгадати число в діапазоні від 1 до 100!\")\n",
        "x = 0\n",
        "while a != b:\n",
        "  b = input()\n",
        "  x+=1\n",
        "  b = int(b)\n",
        "  if b < a:\n",
        "    print(\"Більше\")\n",
        "  if b > a:\n",
        "    print(\"Менше\")\n",
        "  if b == a:\n",
        "    print(\"Вітаю, ви вгадали!\")\n",
        "print(f\"Використано спроб: {x}\")"
      ],
      "metadata": {
        "colab": {
          "base_uri": "https://localhost:8080/"
        },
        "id": "cgeL0oIuWwUI",
        "outputId": "b93ae2ea-b778-4845-dcb1-488150666fc3"
      },
      "execution_count": 157,
      "outputs": [
        {
          "output_type": "stream",
          "name": "stdout",
          "text": [
            "Спробуйте вгадати число в діапазоні від 1 до 100!\n",
            "55\n",
            "Більше\n",
            "80\n",
            "Більше\n",
            "90\n",
            "Більше\n",
            "95\n",
            "Менше\n",
            "92\n",
            "Більше\n",
            "94\n",
            "Менше\n",
            "93\n",
            "Вітаю, ви вгадали!\n",
            "Використано спроб: 7\n"
          ]
        }
      ]
    },
    {
      "cell_type": "code",
      "source": [],
      "metadata": {
        "id": "2z9ZIN61YSes"
      },
      "execution_count": null,
      "outputs": []
    }
  ]
}